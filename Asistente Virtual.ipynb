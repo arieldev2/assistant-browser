{
 "cells": [
  {
   "cell_type": "code",
   "execution_count": null,
   "metadata": {},
   "outputs": [],
   "source": [
    "import speech_recognition as sr\n",
    "import webbrowser \n",
    "from gtts import gTTS\n",
    "import os\n",
    "from pygame import mixer"
   ]
  },
  {
   "cell_type": "code",
   "execution_count": null,
   "metadata": {},
   "outputs": [],
   "source": [
    "def talk(texto):\n",
    "    print(texto)\n",
    "    tts = gTTS(text=texto, lang='es')\n",
    "    tts.save('audio.mp3')\n",
    "    "
   ]
  },
  {
   "cell_type": "code",
   "execution_count": null,
   "metadata": {},
   "outputs": [],
   "source": [
    "def activar():\n",
    "     r = sr.Recognizer()\n",
    "     with sr.Microphone() as source:\n",
    "        print(\"buscar?\")\n",
    "        audio = r.listen(source)\n",
    "        text = r.recognize_google(audio, language='Es')\n",
    "        print(\"You said: \" + text)\n",
    "        if 'Buscar' in text:\n",
    "            buscarvoz('que desea buscar')\n",
    "        \n",
    "\n",
    "\n",
    "def buscarvoz(text):\n",
    "\n",
    "    talk(text)\n",
    "\n",
    "    mixer.init()\n",
    "    mixer.music.load(\"audio.mp3\")\n",
    "    mixer.music.play()\n",
    "    buscar()\n",
    "    \n",
    "def buscar():\n",
    "    \n",
    "    address = 'http://www.google.com/#q='\n",
    "    r = sr.Recognizer()\n",
    "\n",
    "    with sr.Microphone() as source:\n",
    "        print(\"Que deseas buscar?\")\n",
    "        r.pause_threshold = 1\n",
    "        r.adjust_for_ambient_noise(source, duration = 1)\n",
    "\n",
    "        audio = r.listen(source)\n",
    "        print(\"Done\")\n",
    "\n",
    "    try:\n",
    "        text = r.recognize_google(audio, language='Es')\n",
    "        print(\"You said: \" + text)\n",
    "\n",
    "        txt = text.replace(' ', '+')\n",
    "        search = address + str(txt)\n",
    "        webbrowser.open(search)\n",
    "\n",
    "    except sr.UnknownValueError:\n",
    "        print(\"El programa no pudo entender la palabra\")\n",
    "        talk(\"El programa no pudo entender la palabra\")\n",
    "        activar()\n",
    "\n",
    "        mixer.init()\n",
    "        mixer.music.load(\"audio.mp3\")\n",
    "        mixer.music.play()\n",
    "\n",
    "    except sr.RequestError as e:\n",
    "        print(\"Could not request results from Google Speech Recognition service; {0}\".format(e))\n",
    " \n",
    "while True:\n",
    "    activar()\n"
   ]
  },
  {
   "cell_type": "code",
   "execution_count": null,
   "metadata": {},
   "outputs": [],
   "source": []
  },
  {
   "cell_type": "code",
   "execution_count": null,
   "metadata": {},
   "outputs": [],
   "source": []
  },
  {
   "cell_type": "code",
   "execution_count": null,
   "metadata": {},
   "outputs": [],
   "source": []
  }
 ],
 "metadata": {
  "kernelspec": {
   "display_name": "Python 3",
   "language": "python",
   "name": "python3"
  },
  "language_info": {
   "codemirror_mode": {
    "name": "ipython",
    "version": 3
   },
   "file_extension": ".py",
   "mimetype": "text/x-python",
   "name": "python",
   "nbconvert_exporter": "python",
   "pygments_lexer": "ipython3",
   "version": "3.7.3"
  }
 },
 "nbformat": 4,
 "nbformat_minor": 2
}
